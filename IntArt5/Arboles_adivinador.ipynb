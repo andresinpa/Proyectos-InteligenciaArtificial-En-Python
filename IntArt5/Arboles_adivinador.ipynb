{
 "cells": [
  {
   "cell_type": "markdown",
   "id": "a57eb686-f357-4111-960a-43ae27df5e0b",
   "metadata": {},
   "source": [
    "## Árboles de decisión\n",
    "### Adivinador\n",
    "##### fuente: https://www.genbeta.com/desarrollo/crear-un-adivinador"
   ]
  },
  {
   "cell_type": "code",
   "execution_count": 1,
   "id": "e0bffe54-f1eb-4f65-a2d8-8d64b5eec23e",
   "metadata": {},
   "outputs": [
    {
     "name": "stdin",
     "output_type": "stream",
     "text": [
      "Estas pensando en un animal?  si\n",
      "Es un pájaro?  no\n",
      "Qué animal era?  aguila\n",
      "Qué diferencia a un pájaro de un aguila?  tamaño\n",
      "Estas pensando en un animal?  si\n",
      "tamaño?  grande\n",
      "Es un pájaro?  nose\n",
      "Qué animal era?  nose\n",
      "Qué diferencia a un pájaro de un nose?  nose\n",
      "Estas pensando en un animal?  nose\n"
     ]
    }
   ],
   "source": [
    "#!/usr/bin/env python\n",
    "# -*- coding: utf-8 -*-\n",
    " \n",
    "# Clasesdo\n",
    "# -----------------------------------------------------------\n",
    " \n",
    "class Arbol:\n",
    "    def __init__(self, carga=None, izq=None, der=None):\n",
    "        self.carga = carga\n",
    "        self.izquierda = izq\n",
    "        self.derecha = der\n",
    "         \n",
    "    def __str__(self):\n",
    "        return str(self.carga)\n",
    " \n",
    "# -----------------------------------------------------------\n",
    " \n",
    "# Funciones\n",
    "# -----------------------------------------------------------\n",
    " \n",
    "def si(preg):\n",
    "   #from string import lower\n",
    "    resp = (input(preg))\n",
    "    return (resp[0] == 's')\n",
    " \n",
    "# -----------------------------------------------------------\n",
    " \n",
    "def main():\n",
    "    bucle = True\n",
    "    raiz = Arbol(\"pájaro\")\n",
    "    while bucle:\n",
    "        if not si(\"Estas pensando en un animal? \"): break\n",
    "         \n",
    "        arbol = raiz\n",
    "        while arbol.izquierda != None:\n",
    "            if si(arbol.carga + \"? \"):\n",
    "                arbol = arbol.izquierda\n",
    "            else:\n",
    "                arbol = arbol.derecha\n",
    "         \n",
    "        #adivinar\n",
    "        animal = arbol.carga\n",
    "        if si(\"Es un \" + animal + \"? \"):\n",
    "            print (\"Soy el más grande!\")\n",
    "            continue\n",
    "         \n",
    "        #obtener informacion\n",
    "        nuevo = input(\"Qué animal era? \")\n",
    "        info = input(\"Qué diferencia a un \" + animal + \" de un \" + nuevo + \"? \")\n",
    "        #indicador = \"Si el animal fuera un \" + animal + \" cual seria la respuesta? \"\n",
    "        arbol.carga = info\n",
    "        #if si(indicador):\n",
    "       # arbol.izquierda = Arbol(animal)\n",
    "        #arbol.derecha = Arbol(nuevo)\n",
    "       # else:\n",
    "        arbol.derecha = Arbol(animal)\n",
    "        arbol.izquierda = Arbol(nuevo)\n",
    " \n",
    "    return 0\n",
    " \n",
    "if __name__ == '__main__':\n",
    "    main()"
   ]
  },
  {
   "cell_type": "code",
   "execution_count": null,
   "id": "8ba06b77-d85a-440a-b169-deca81f8bd04",
   "metadata": {},
   "outputs": [],
   "source": []
  },
  {
   "cell_type": "code",
   "execution_count": null,
   "id": "ba579512-6515-4205-af52-221dbcbbd4d8",
   "metadata": {},
   "outputs": [],
   "source": []
  }
 ],
 "metadata": {
  "kernelspec": {
   "display_name": "Python 3 (ipykernel)",
   "language": "python",
   "name": "python3"
  },
  "language_info": {
   "codemirror_mode": {
    "name": "ipython",
    "version": 3
   },
   "file_extension": ".py",
   "mimetype": "text/x-python",
   "name": "python",
   "nbconvert_exporter": "python",
   "pygments_lexer": "ipython3",
   "version": "3.9.12"
  }
 },
 "nbformat": 4,
 "nbformat_minor": 5
}
