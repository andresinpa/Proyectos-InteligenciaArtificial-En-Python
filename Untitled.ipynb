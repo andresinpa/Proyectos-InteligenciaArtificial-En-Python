{
 "cells": [
  {
   "cell_type": "code",
   "execution_count": 1,
   "id": "4f265b2d-8d4a-44f4-bf1a-c32d1cae6699",
   "metadata": {},
   "outputs": [],
   "source": [
    "import pandas as pd\n",
    "import numpy as np\n",
    "lista=[1,2,3,4,5]\n",
    "serie=pd.Series(lista)"
   ]
  },
  {
   "cell_type": "code",
   "execution_count": 2,
   "id": "4c91e465-fd5f-4ce7-b077-659b46c6fd5a",
   "metadata": {},
   "outputs": [
    {
     "data": {
      "text/plain": [
       "3.0"
      ]
     },
     "execution_count": 2,
     "metadata": {},
     "output_type": "execute_result"
    }
   ],
   "source": [
    "serie.mean()\n"
   ]
  },
  {
   "cell_type": "code",
   "execution_count": 3,
   "id": "7b10eaed-20e2-49bf-80be-f149ca97b106",
   "metadata": {},
   "outputs": [
    {
     "data": {
      "text/plain": [
       "count    5.000000\n",
       "mean     3.000000\n",
       "std      1.581139\n",
       "min      1.000000\n",
       "25%      2.000000\n",
       "50%      3.000000\n",
       "75%      4.000000\n",
       "max      5.000000\n",
       "dtype: float64"
      ]
     },
     "execution_count": 3,
     "metadata": {},
     "output_type": "execute_result"
    }
   ],
   "source": [
    "serie.describe()"
   ]
  },
  {
   "cell_type": "code",
   "execution_count": null,
   "id": "e69e8067-faf1-4e3a-a8d6-e26b7c46bcdb",
   "metadata": {},
   "outputs": [],
   "source": []
  }
 ],
 "metadata": {
  "kernelspec": {
   "display_name": "Python 3 (ipykernel)",
   "language": "python",
   "name": "python3"
  },
  "language_info": {
   "codemirror_mode": {
    "name": "ipython",
    "version": 3
   },
   "file_extension": ".py",
   "mimetype": "text/x-python",
   "name": "python",
   "nbconvert_exporter": "python",
   "pygments_lexer": "ipython3",
   "version": "3.9.12"
  }
 },
 "nbformat": 4,
 "nbformat_minor": 5
}
