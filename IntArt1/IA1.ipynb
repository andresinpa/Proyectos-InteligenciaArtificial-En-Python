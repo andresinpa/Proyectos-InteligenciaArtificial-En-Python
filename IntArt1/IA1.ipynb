{
 "cells": [
  {
   "cell_type": "markdown",
   "id": "cd21bda1-6779-4926-ba0b-55aa709985dc",
   "metadata": {
    "tags": []
   },
   "source": [
    "# Primer programa Python\n",
    "## Segundo nivel"
   ]
  },
  {
   "cell_type": "code",
   "execution_count": 1,
   "id": "836b019f-9c4b-4b88-a6b7-b3bc229dc75f",
   "metadata": {},
   "outputs": [
    {
     "name": "stdout",
     "output_type": "stream",
     "text": [
      "3\n",
      "<class 'int'>\n"
     ]
    }
   ],
   "source": [
    "numero=3\n",
    "print(numero)\n",
    "print(type(numero))"
   ]
  },
  {
   "cell_type": "code",
   "execution_count": 2,
   "id": "e992d027-897f-4996-8715-3a5e916f7411",
   "metadata": {},
   "outputs": [
    {
     "name": "stdout",
     "output_type": "stream",
     "text": [
      "5 tamaño\n",
      "u\n"
     ]
    }
   ],
   "source": [
    "nombre=\"jesus\"\n",
    "print(len(nombre),'tamaño')\n",
    "print(nombre[3])"
   ]
  },
  {
   "cell_type": "code",
   "execution_count": 3,
   "id": "647763d7-ce88-4c99-a1e9-489088096261",
   "metadata": {},
   "outputs": [
    {
     "name": "stdin",
     "output_type": "stream",
     "text": [
      "Digite su nombre jesus\n"
     ]
    },
    {
     "name": "stdout",
     "output_type": "stream",
     "text": [
      "j Tamaño 5\n"
     ]
    }
   ],
   "source": [
    "entrada = input('Digite su nombre')\n",
    "print(entrada[0], 'Tamaño', len(entrada))"
   ]
  },
  {
   "cell_type": "code",
   "execution_count": 4,
   "id": "438b0a85-415d-4540-8493-28319877794c",
   "metadata": {},
   "outputs": [
    {
     "name": "stdin",
     "output_type": "stream",
     "text": [
      "Ingresa un numero  6\n"
     ]
    },
    {
     "name": "stdout",
     "output_type": "stream",
     "text": [
      "Es mayor que 5\n"
     ]
    }
   ],
   "source": [
    "#Condicionales\n",
    "numero = int(input('Ingresa un numero '))\n",
    "if numero > 5:\n",
    "    print('Es mayor que 5')\n",
    "elif numero == 5:\n",
    "    print('Es igual a 5')\n",
    "else:\n",
    "    print('Es menor a 5')\n",
    "    "
   ]
  },
  {
   "cell_type": "code",
   "execution_count": 5,
   "id": "81f6ada8-5622-42e6-bcb9-ad2522261fc9",
   "metadata": {},
   "outputs": [],
   "source": [
    "#while \n",
    "while(numero<5):\n",
    "    numero+=1\n",
    "    print(numero)"
   ]
  },
  {
   "cell_type": "code",
   "execution_count": 6,
   "id": "b63766e4-574f-4387-ae82-84164d035e30",
   "metadata": {},
   "outputs": [
    {
     "name": "stdout",
     "output_type": "stream",
     "text": [
      "6\n",
      "7\n",
      "8\n",
      "9\n",
      "10\n",
      "11\n",
      "La letra existe --- e\n"
     ]
    }
   ],
   "source": [
    "#for\n",
    "for i in range(6,12):\n",
    "    print(i)\n",
    "    \n",
    "for cursor in nombre:\n",
    "    if cursor=='e':\n",
    "        print('La letra existe', '---', cursor)"
   ]
  },
  {
   "cell_type": "code",
   "execution_count": 7,
   "id": "fda3a141-d991-458d-addb-b8dcd4ed4ea5",
   "metadata": {},
   "outputs": [
    {
     "name": "stdout",
     "output_type": "stream",
     "text": [
      "1\n",
      "3\n",
      "8.2\n",
      "hola\n",
      "False\n"
     ]
    }
   ],
   "source": [
    "#lista\n",
    "\n",
    "lista=[1,3,8.2,'jesus', False]\n",
    "lista[3] = 'hola'\n",
    "for i in lista:\n",
    "    print(i)"
   ]
  },
  {
   "cell_type": "code",
   "execution_count": 8,
   "id": "bd5e0565-ac4a-45cd-8901-15cd66b60a5c",
   "metadata": {},
   "outputs": [
    {
     "name": "stdout",
     "output_type": "stream",
     "text": [
      "8\n",
      "4\n",
      "9.9999\n",
      "hola\n",
      "[1, 'a']\n"
     ]
    }
   ],
   "source": [
    "#Tupla\n",
    "tupla=(8,4,9.9999, 'hola', [1, 'a'])\n",
    "for i in tupla:\n",
    "    print(i)\n",
    "    \n",
    "#tupla[3] = 'jesus' Esto no se puede hacer en tuplas"
   ]
  },
  {
   "cell_type": "code",
   "execution_count": 9,
   "id": "e37473cf-a164-4d66-b249-9bcd5798c50c",
   "metadata": {},
   "outputs": [
    {
     "name": "stdout",
     "output_type": "stream",
     "text": [
      "1\n"
     ]
    }
   ],
   "source": [
    "#diccionarios\n",
    "\n",
    "dicc = {'uno': 1, \n",
    "        'dos': 2, \n",
    "        'tres': 3}\n",
    "print(dicc['uno'])\n"
   ]
  },
  {
   "cell_type": "code",
   "execution_count": 10,
   "id": "a6fa4aa2-d982-4316-9dae-24e2d217c742",
   "metadata": {},
   "outputs": [],
   "source": [
    "f=open('file.txt', 'a')  #a,w,r\n",
    "f.write('Segunda linea\\n')\n",
    "f.close()"
   ]
  },
  {
   "cell_type": "code",
   "execution_count": 4,
   "id": "e64d5605-86cc-4dbd-8865-1a483bfd3b43",
   "metadata": {},
   "outputs": [
    {
     "name": "stdin",
     "output_type": "stream",
     "text": [
      "ingrese su nombre jesus\n",
      "ingrese su apellido infante\n"
     ]
    }
   ],
   "source": [
    "nombre2 = input('ingrese su nombre')\n",
    "apellido = input('ingrese su apellido')\n",
    "\n",
    "g = open('nombres.txt', 'w')\n",
    "g.write(nombre2 + \"\\n\" + apellido)\n",
    "g.close()"
   ]
  },
  {
   "cell_type": "code",
   "execution_count": null,
   "id": "c1d2eaaa-fcf6-4383-b521-a91294663252",
   "metadata": {},
   "outputs": [],
   "source": []
  }
 ],
 "metadata": {
  "kernelspec": {
   "display_name": "Python 3 (ipykernel)",
   "language": "python",
   "name": "python3"
  },
  "language_info": {
   "codemirror_mode": {
    "name": "ipython",
    "version": 3
   },
   "file_extension": ".py",
   "mimetype": "text/x-python",
   "name": "python",
   "nbconvert_exporter": "python",
   "pygments_lexer": "ipython3",
   "version": "3.9.12"
  }
 },
 "nbformat": 4,
 "nbformat_minor": 5
}
