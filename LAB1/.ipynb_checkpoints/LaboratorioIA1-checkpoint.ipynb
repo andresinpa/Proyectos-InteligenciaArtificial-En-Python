{
 "cells": [
  {
   "cell_type": "markdown",
   "id": "e81044d2-cd43-48cb-87ed-833a464b2ef0",
   "metadata": {
    "tags": []
   },
   "source": [
    "# LABORATORIO 1: Inteligencia Artificial 💻"
   ]
  },
  {
   "cell_type": "markdown",
   "id": "34ff4952-687b-4606-a18e-c9d1e82e4ec6",
   "metadata": {},
   "source": [
    "<h4 align=\"center\"> Andrés Camilo Delgado Ramos</h4>\n",
    "<h4 align=\"center\"> Yensy Lorena Rueda Roa</h4>\n",
    "<h4 align=\"center\"> Jesús Andrés Infante Páez</h4>\n"
   ]
  },
  {
   "cell_type": "markdown",
   "id": "f723b2d0-39fa-4de0-99eb-7fe97d76201b",
   "metadata": {},
   "source": [
    "#### Problematica\n",
    "<p>En un cultivo de fresa se quiere desarrollar un modelo predictivo basado en el análisis de los \n",
    "<br>datos recolectados al sistema, durante un mes una vez al día. \n",
    "<br>Se requiere almacenar los siguientes datos: \n",
    "<br>&nbsp;&nbsp;&nbsp;&nbsp;• Fecha\n",
    "<br>&nbsp;&nbsp;&nbsp;&nbsp;• Área del cultivo (Zona 1,2,3,4)\n",
    "<br>&nbsp;&nbsp;&nbsp;&nbsp;• Cantidad total de fresa recogida lbs.\n",
    "<br>&nbsp;&nbsp;&nbsp;&nbsp;• Cantidad de fresa de primera calidad lbs.</p>\n"
   ]
  },
  {
   "cell_type": "markdown",
   "id": "e9e83379-d4f8-41f4-ba50-0c1b8cc09fcb",
   "metadata": {
    "tags": []
   },
   "source": [
    "### Consideraciones\n",
    "\n",
    "<p><br> 1)\tRealizar un programa en Python que solicite en consola el nombre del usuario una sola vez\n",
    "<br> 2)\tCada día se debe almacenar la información. \n",
    "<br>3)\tLa información debe ser guardada en un archivo de texto de manera local. \n",
    "<br>4)\tEl aplicativo debe tener un menú que permita elegir:\n",
    "<br>&nbsp;&nbsp;&nbsp;&nbsp;i)\tIngresar información,\n",
    "<br>&nbsp;&nbsp;&nbsp;&nbsp;ii) Buscar información por zona o fecha,\n",
    "<br>&nbsp;&nbsp;&nbsp;&nbsp;iii)Graficar datos por zona. \n",
    "<br>5)\tLa búsqueda debe traer los datos recolectados\n",
    "<br>-------------------------------------------------------------------------------------------------------------------------------------------\n",
    "<br>-------------------------------------------------------------------------------------------------------------------------------------------\n",
    "</p>"
   ]
  },
  {
   "cell_type": "code",
   "execution_count": 119,
   "id": "c1573f0b-a58c-4c8d-896b-ea04517be204",
   "metadata": {
    "tags": []
   },
   "outputs": [
    {
     "name": "stdout",
     "output_type": "stream",
     "text": [
      "\n",
      "**************************  SISTEMA DE REGISTRO DE CULTIVO DE FRESAS  **************************\n",
      "****************                        Datos de usuario                        ****************\n"
     ]
    },
    {
     "name": "stdin",
     "output_type": "stream",
     "text": [
      "Ingrese su nombre:  Jesus Infante\n",
      "Ingresa el área de la zona 1 en m^2:  120\n",
      "Ingresa el área de la zona 2 en m^2:  95\n",
      "Ingresa el área de la zona 3 en m^2:  115\n",
      "Ingresa el área de la zona 4 en m^2:  108\n"
     ]
    },
    {
     "name": "stdout",
     "output_type": "stream",
     "text": [
      "-----------------------------------------------------------------------------------------------\n"
     ]
    }
   ],
   "source": [
    "\n",
    "print('\\n**************************  SISTEMA DE REGISTRO DE CULTIVO DE FRESAS  **************************' + \n",
    "      '\\n****************                        Datos de usuario                        ****************')\n",
    "nombre = input('Ingrese su nombre: ')\n",
    "zonas = [['1','2','3','4'], [0,0,0,0]]  #zonas[nombres, areas]\n",
    "area = 0\n",
    "\n",
    "linSeparacion = '-----------------------------------------------------------------------------------------------'\n",
    "\n",
    "for i in range(len(zonas[0])):\n",
    "    zonas[1][i] = float(input('Ingresa el área de la zona ' + str(i+1) + \" en m^2: \")) \n",
    "print(linSeparacion)\n",
    "\n",
    "archivo = open('Cultivo.txt', 'w')\n",
    "archivo.write(linSeparacion + '\\n' + \"Nombre de usuario: \" + nombre + \"\\n\" + linSeparacion)\n",
    "archivo.close()\n",
    "\n",
    "#print(zonas)\n",
    "                "
   ]
  },
  {
   "cell_type": "code",
   "execution_count": 120,
   "id": "31b4353f-ba9f-4648-a6b5-9f1e4a80d362",
   "metadata": {
    "tags": []
   },
   "outputs": [
    {
     "name": "stdin",
     "output_type": "stream",
     "text": [
      "\n",
      "-----------------------------------------------------------------------------------------------\n",
      "*****                                 MENU DE OPCIONES                                     *****\n",
      "*****                        Ingrese el número de la opción deseada                        *****\n",
      "** 1. Ingresar información                                                                     *\n",
      "** 2. Buscar información por fecha                                                            **\n",
      "** 3. Buscar información por zona                                                             **\n",
      "** 4. Graficar datos por zona                                                                 **\n",
      "** 5. Salir **\n",
      "************************************************************************************************\n",
      "¿opción? 1\n"
     ]
    },
    {
     "name": "stdout",
     "output_type": "stream",
     "text": [
      "-----------------------------------------------------------------------------------------------\n"
     ]
    },
    {
     "name": "stdin",
     "output_type": "stream",
     "text": [
      "\n",
      "Ingresa la fecha, DD/MM/AAAA:  01/12/2022\n",
      "Ingresa la Zona (1, 2, 3 o 4):  1\n",
      "Ingresa la cantidad de fresa recogida en lbs:  89\n",
      "Ingresa la cantidad de fresa de primera calidad en lbs:  80\n",
      "\n",
      "-----------------------------------------------------------------------------------------------\n",
      "*****                                 MENU DE OPCIONES                                     *****\n",
      "*****                        Ingrese el número de la opción deseada                        *****\n",
      "** 1. Ingresar información                                                                     *\n",
      "** 2. Buscar información por fecha                                                            **\n",
      "** 3. Buscar información por zona                                                             **\n",
      "** 4. Graficar datos por zona                                                                 **\n",
      "** 5. Salir **\n",
      "************************************************************************************************\n",
      "¿opción? 1\n"
     ]
    },
    {
     "name": "stdout",
     "output_type": "stream",
     "text": [
      "-----------------------------------------------------------------------------------------------\n"
     ]
    },
    {
     "name": "stdin",
     "output_type": "stream",
     "text": [
      "\n",
      "Ingresa la fecha, DD/MM/AAAA:  02/12/2022\n",
      "Ingresa la Zona (1, 2, 3 o 4):  4\n",
      "Ingresa la cantidad de fresa recogida en lbs:  75\n",
      "Ingresa la cantidad de fresa de primera calidad en lbs:  70\n",
      "\n",
      "-----------------------------------------------------------------------------------------------\n",
      "*****                                 MENU DE OPCIONES                                     *****\n",
      "*****                        Ingrese el número de la opción deseada                        *****\n",
      "** 1. Ingresar información                                                                     *\n",
      "** 2. Buscar información por fecha                                                            **\n",
      "** 3. Buscar información por zona                                                             **\n",
      "** 4. Graficar datos por zona                                                                 **\n",
      "** 5. Salir **\n",
      "************************************************************************************************\n",
      "¿opción? 1\n"
     ]
    },
    {
     "name": "stdout",
     "output_type": "stream",
     "text": [
      "-----------------------------------------------------------------------------------------------\n"
     ]
    },
    {
     "name": "stdin",
     "output_type": "stream",
     "text": [
      "\n",
      "Ingresa la fecha, DD/MM/AAAA:  03/12/2022\n",
      "Ingresa la Zona (1, 2, 3 o 4):  3\n",
      "Ingresa la cantidad de fresa recogida en lbs:  80\n",
      "Ingresa la cantidad de fresa de primera calidad en lbs:  78\n",
      "\n",
      "-----------------------------------------------------------------------------------------------\n",
      "*****                                 MENU DE OPCIONES                                     *****\n",
      "*****                        Ingrese el número de la opción deseada                        *****\n",
      "** 1. Ingresar información                                                                     *\n",
      "** 2. Buscar información por fecha                                                            **\n",
      "** 3. Buscar información por zona                                                             **\n",
      "** 4. Graficar datos por zona                                                                 **\n",
      "** 5. Salir **\n",
      "************************************************************************************************\n",
      "¿opción? 1\n"
     ]
    },
    {
     "name": "stdout",
     "output_type": "stream",
     "text": [
      "-----------------------------------------------------------------------------------------------\n"
     ]
    },
    {
     "name": "stdin",
     "output_type": "stream",
     "text": [
      "\n",
      "Ingresa la fecha, DD/MM/AAAA:  04/12/2022\n",
      "Ingresa la Zona (1, 2, 3 o 4):  6\n"
     ]
    },
    {
     "name": "stdout",
     "output_type": "stream",
     "text": [
      "Zona no resgistrada ... ¡Vuelva a intentarlo!\n"
     ]
    },
    {
     "name": "stdin",
     "output_type": "stream",
     "text": [
      "\n",
      "-----------------------------------------------------------------------------------------------\n",
      "*****                                 MENU DE OPCIONES                                     *****\n",
      "*****                        Ingrese el número de la opción deseada                        *****\n",
      "** 1. Ingresar información                                                                     *\n",
      "** 2. Buscar información por fecha                                                            **\n",
      "** 3. Buscar información por zona                                                             **\n",
      "** 4. Graficar datos por zona                                                                 **\n",
      "** 5. Salir **\n",
      "************************************************************************************************\n",
      "¿opción? 1\n"
     ]
    },
    {
     "name": "stdout",
     "output_type": "stream",
     "text": [
      "-----------------------------------------------------------------------------------------------\n"
     ]
    },
    {
     "name": "stdin",
     "output_type": "stream",
     "text": [
      "\n",
      "Ingresa la fecha, DD/MM/AAAA:  04/12/2022\n",
      "Ingresa la Zona (1, 2, 3 o 4):  2\n",
      "Ingresa la cantidad de fresa recogida en lbs:  90\n",
      "Ingresa la cantidad de fresa de primera calidad en lbs:  76\n",
      "\n",
      "-----------------------------------------------------------------------------------------------\n",
      "*****                                 MENU DE OPCIONES                                     *****\n",
      "*****                        Ingrese el número de la opción deseada                        *****\n",
      "** 1. Ingresar información                                                                     *\n",
      "** 2. Buscar información por fecha                                                            **\n",
      "** 3. Buscar información por zona                                                             **\n",
      "** 4. Graficar datos por zona                                                                 **\n",
      "** 5. Salir **\n",
      "************************************************************************************************\n",
      "¿opción? 1\n"
     ]
    },
    {
     "name": "stdout",
     "output_type": "stream",
     "text": [
      "-----------------------------------------------------------------------------------------------\n"
     ]
    },
    {
     "name": "stdin",
     "output_type": "stream",
     "text": [
      "\n",
      "Ingresa la fecha, DD/MM/AAAA:  05/12/2022\n",
      "Ingresa la Zona (1, 2, 3 o 4):  2\n",
      "Ingresa la cantidad de fresa recogida en lbs:  79\n",
      "Ingresa la cantidad de fresa de primera calidad en lbs:  76\n",
      "\n",
      "-----------------------------------------------------------------------------------------------\n",
      "*****                                 MENU DE OPCIONES                                     *****\n",
      "*****                        Ingrese el número de la opción deseada                        *****\n",
      "** 1. Ingresar información                                                                     *\n",
      "** 2. Buscar información por fecha                                                            **\n",
      "** 3. Buscar información por zona                                                             **\n",
      "** 4. Graficar datos por zona                                                                 **\n",
      "** 5. Salir **\n",
      "************************************************************************************************\n",
      "¿opción? 1\n"
     ]
    },
    {
     "name": "stdout",
     "output_type": "stream",
     "text": [
      "-----------------------------------------------------------------------------------------------\n"
     ]
    },
    {
     "name": "stdin",
     "output_type": "stream",
     "text": [
      "\n",
      "Ingresa la fecha, DD/MM/AAAA:  06/12/2022\n",
      "Ingresa la Zona (1, 2, 3 o 4):  4\n",
      "Ingresa la cantidad de fresa recogida en lbs:  80\n",
      "Ingresa la cantidad de fresa de primera calidad en lbs:  80\n",
      "\n",
      "-----------------------------------------------------------------------------------------------\n",
      "*****                                 MENU DE OPCIONES                                     *****\n",
      "*****                        Ingrese el número de la opción deseada                        *****\n",
      "** 1. Ingresar información                                                                     *\n",
      "** 2. Buscar información por fecha                                                            **\n",
      "** 3. Buscar información por zona                                                             **\n",
      "** 4. Graficar datos por zona                                                                 **\n",
      "** 5. Salir **\n",
      "************************************************************************************************\n",
      "¿opción? 1\n"
     ]
    },
    {
     "name": "stdout",
     "output_type": "stream",
     "text": [
      "-----------------------------------------------------------------------------------------------\n"
     ]
    },
    {
     "name": "stdin",
     "output_type": "stream",
     "text": [
      "\n",
      "Ingresa la fecha, DD/MM/AAAA:  07/12/2022\n",
      "Ingresa la Zona (1, 2, 3 o 4):  1\n",
      "Ingresa la cantidad de fresa recogida en lbs:  70\n",
      "Ingresa la cantidad de fresa de primera calidad en lbs:  68\n",
      "\n",
      "-----------------------------------------------------------------------------------------------\n",
      "*****                                 MENU DE OPCIONES                                     *****\n",
      "*****                        Ingrese el número de la opción deseada                        *****\n",
      "** 1. Ingresar información                                                                     *\n",
      "** 2. Buscar información por fecha                                                            **\n",
      "** 3. Buscar información por zona                                                             **\n",
      "** 4. Graficar datos por zona                                                                 **\n",
      "** 5. Salir **\n",
      "************************************************************************************************\n",
      "¿opción? 1\n"
     ]
    },
    {
     "name": "stdout",
     "output_type": "stream",
     "text": [
      "-----------------------------------------------------------------------------------------------\n"
     ]
    },
    {
     "name": "stdin",
     "output_type": "stream",
     "text": [
      "\n",
      "Ingresa la fecha, DD/MM/AAAA:  08/12/2022\n",
      "Ingresa la Zona (1, 2, 3 o 4):  1\n",
      "Ingresa la cantidad de fresa recogida en lbs:  80\n",
      "Ingresa la cantidad de fresa de primera calidad en lbs:  70\n",
      "\n",
      "-----------------------------------------------------------------------------------------------\n",
      "*****                                 MENU DE OPCIONES                                     *****\n",
      "*****                        Ingrese el número de la opción deseada                        *****\n",
      "** 1. Ingresar información                                                                     *\n",
      "** 2. Buscar información por fecha                                                            **\n",
      "** 3. Buscar información por zona                                                             **\n",
      "** 4. Graficar datos por zona                                                                 **\n",
      "** 5. Salir **\n",
      "************************************************************************************************\n",
      "¿opción? 1\n"
     ]
    },
    {
     "name": "stdout",
     "output_type": "stream",
     "text": [
      "-----------------------------------------------------------------------------------------------\n"
     ]
    },
    {
     "name": "stdin",
     "output_type": "stream",
     "text": [
      "\n",
      "Ingresa la fecha, DD/MM/AAAA:  09/12/2022\n",
      "Ingresa la Zona (1, 2, 3 o 4):  2\n",
      "Ingresa la cantidad de fresa recogida en lbs:  85\n",
      "Ingresa la cantidad de fresa de primera calidad en lbs:  76\n",
      "\n",
      "-----------------------------------------------------------------------------------------------\n",
      "*****                                 MENU DE OPCIONES                                     *****\n",
      "*****                        Ingrese el número de la opción deseada                        *****\n",
      "** 1. Ingresar información                                                                     *\n",
      "** 2. Buscar información por fecha                                                            **\n",
      "** 3. Buscar información por zona                                                             **\n",
      "** 4. Graficar datos por zona                                                                 **\n",
      "** 5. Salir **\n",
      "************************************************************************************************\n",
      "¿opción? 1\n"
     ]
    },
    {
     "name": "stdout",
     "output_type": "stream",
     "text": [
      "-----------------------------------------------------------------------------------------------\n"
     ]
    },
    {
     "name": "stdin",
     "output_type": "stream",
     "text": [
      "\n",
      "Ingresa la fecha, DD/MM/AAAA:  10/12/2022\n",
      "Ingresa la Zona (1, 2, 3 o 4):  4\n",
      "Ingresa la cantidad de fresa recogida en lbs:  87\n",
      "Ingresa la cantidad de fresa de primera calidad en lbs:  85\n",
      "\n",
      "-----------------------------------------------------------------------------------------------\n",
      "*****                                 MENU DE OPCIONES                                     *****\n",
      "*****                        Ingrese el número de la opción deseada                        *****\n",
      "** 1. Ingresar información                                                                     *\n",
      "** 2. Buscar información por fecha                                                            **\n",
      "** 3. Buscar información por zona                                                             **\n",
      "** 4. Graficar datos por zona                                                                 **\n",
      "** 5. Salir **\n",
      "************************************************************************************************\n",
      "¿opción? 1\n"
     ]
    },
    {
     "name": "stdout",
     "output_type": "stream",
     "text": [
      "-----------------------------------------------------------------------------------------------\n"
     ]
    },
    {
     "name": "stdin",
     "output_type": "stream",
     "text": [
      "\n",
      "Ingresa la fecha, DD/MM/AAAA:  11/12/2022\n",
      "Ingresa la Zona (1, 2, 3 o 4):  4\n",
      "Ingresa la cantidad de fresa recogida en lbs:  75\n",
      "Ingresa la cantidad de fresa de primera calidad en lbs:  68\n",
      "\n",
      "-----------------------------------------------------------------------------------------------\n",
      "*****                                 MENU DE OPCIONES                                     *****\n",
      "*****                        Ingrese el número de la opción deseada                        *****\n",
      "** 1. Ingresar información                                                                     *\n",
      "** 2. Buscar información por fecha                                                            **\n",
      "** 3. Buscar información por zona                                                             **\n",
      "** 4. Graficar datos por zona                                                                 **\n",
      "** 5. Salir **\n",
      "************************************************************************************************\n",
      "¿opción? 1\n"
     ]
    },
    {
     "name": "stdout",
     "output_type": "stream",
     "text": [
      "-----------------------------------------------------------------------------------------------\n"
     ]
    },
    {
     "name": "stdin",
     "output_type": "stream",
     "text": [
      "\n",
      "Ingresa la fecha, DD/MM/AAAA:  12/12/2022\n",
      "Ingresa la Zona (1, 2, 3 o 4):  4\n",
      "Ingresa la cantidad de fresa recogida en lbs:  90\n",
      "Ingresa la cantidad de fresa de primera calidad en lbs:  80\n",
      "\n",
      "-----------------------------------------------------------------------------------------------\n",
      "*****                                 MENU DE OPCIONES                                     *****\n",
      "*****                        Ingrese el número de la opción deseada                        *****\n",
      "** 1. Ingresar información                                                                     *\n",
      "** 2. Buscar información por fecha                                                            **\n",
      "** 3. Buscar información por zona                                                             **\n",
      "** 4. Graficar datos por zona                                                                 **\n",
      "** 5. Salir **\n",
      "************************************************************************************************\n",
      "¿opción? 2\n",
      "-----------------------------------------------------------------------------------------------\n",
      "Ingrese la fecha para busqueda (DD/MM/AAAA):  04/12/2022\n"
     ]
    },
    {
     "name": "stdout",
     "output_type": "stream",
     "text": [
      "\n",
      "¡DATOS ENCONTRADOS ...!\n",
      "Fecha: 04/12/2022\n",
      "Zona 2 con un área de: 95.0 m^2\n",
      "Fresa Recogida: 90.0 lbs\n",
      "Fresa de Primera Calidad: 76.0 lbs\n",
      "-----------------------------------------------------------------------------------------------\n"
     ]
    },
    {
     "name": "stdin",
     "output_type": "stream",
     "text": [
      "\n",
      "-----------------------------------------------------------------------------------------------\n",
      "*****                                 MENU DE OPCIONES                                     *****\n",
      "*****                        Ingrese el número de la opción deseada                        *****\n",
      "** 1. Ingresar información                                                                     *\n",
      "** 2. Buscar información por fecha                                                            **\n",
      "** 3. Buscar información por zona                                                             **\n",
      "** 4. Graficar datos por zona                                                                 **\n",
      "** 5. Salir **\n",
      "************************************************************************************************\n",
      "¿opción? 2\n",
      "-----------------------------------------------------------------------------------------------\n",
      "Ingrese la fecha para busqueda (DD/MM/AAAA):  12/12/2022\n"
     ]
    },
    {
     "name": "stdout",
     "output_type": "stream",
     "text": [
      "\n",
      "¡DATOS ENCONTRADOS ...!\n",
      "Fecha: 12/12/2022\n",
      "Zona 4 con un área de: 108.0 m^2\n",
      "Fresa Recogida: 90.0 lbs\n",
      "Fresa de Primera Calidad: 80.0 lbs\n",
      "-----------------------------------------------------------------------------------------------\n"
     ]
    },
    {
     "name": "stdin",
     "output_type": "stream",
     "text": [
      "\n",
      "-----------------------------------------------------------------------------------------------\n",
      "*****                                 MENU DE OPCIONES                                     *****\n",
      "*****                        Ingrese el número de la opción deseada                        *****\n",
      "** 1. Ingresar información                                                                     *\n",
      "** 2. Buscar información por fecha                                                            **\n",
      "** 3. Buscar información por zona                                                             **\n",
      "** 4. Graficar datos por zona                                                                 **\n",
      "** 5. Salir **\n",
      "************************************************************************************************\n",
      "¿opción? 3\n",
      "-----------------------------------------------------------------------------------------------\n",
      "Ingrese la Zona de la cual desea obtener datos (1,2,3,4) 4\n"
     ]
    },
    {
     "name": "stdout",
     "output_type": "stream",
     "text": [
      "\n",
      "¡DATOS ENCONTRADOS ...!\n",
      "\n",
      "Zona 4 con un área de: 108.0 m^2\n",
      "Fecha: 12/12/2022\n",
      "Fresa Recogida: 90.0 lbs\n",
      "Fresa de Primera Calidad: 80.0 lbs\n",
      "-----------------------------------------------------------------------------------------------\n",
      "\n",
      "Zona 4 con un área de: 108.0 m^2\n",
      "Fecha: 11/12/2022\n",
      "Fresa Recogida: 75.0 lbs\n",
      "Fresa de Primera Calidad: 68.0 lbs\n",
      "-----------------------------------------------------------------------------------------------\n",
      "\n",
      "Zona 4 con un área de: 108.0 m^2\n",
      "Fecha: 10/12/2022\n",
      "Fresa Recogida: 87.0 lbs\n",
      "Fresa de Primera Calidad: 85.0 lbs\n",
      "-----------------------------------------------------------------------------------------------\n",
      "\n",
      "Zona 4 con un área de: 108.0 m^2\n",
      "Fecha: 06/12/2022\n",
      "Fresa Recogida: 80.0 lbs\n",
      "Fresa de Primera Calidad: 80.0 lbs\n",
      "-----------------------------------------------------------------------------------------------\n",
      "\n",
      "Zona 4 con un área de: 108.0 m^2\n",
      "Fecha: 02/12/2022\n",
      "Fresa Recogida: 75.0 lbs\n",
      "Fresa de Primera Calidad: 70.0 lbs\n",
      "-----------------------------------------------------------------------------------------------\n"
     ]
    },
    {
     "name": "stdin",
     "output_type": "stream",
     "text": [
      "\n",
      "-----------------------------------------------------------------------------------------------\n",
      "*****                                 MENU DE OPCIONES                                     *****\n",
      "*****                        Ingrese el número de la opción deseada                        *****\n",
      "** 1. Ingresar información                                                                     *\n",
      "** 2. Buscar información por fecha                                                            **\n",
      "** 3. Buscar información por zona                                                             **\n",
      "** 4. Graficar datos por zona                                                                 **\n",
      "** 5. Salir **\n",
      "************************************************************************************************\n",
      "¿opción? 3\n",
      "-----------------------------------------------------------------------------------------------\n",
      "Ingrese la Zona de la cual desea obtener datos (1,2,3,4) 1\n"
     ]
    },
    {
     "name": "stdout",
     "output_type": "stream",
     "text": [
      "\n",
      "¡DATOS ENCONTRADOS ...!\n",
      "\n",
      "Zona 1 con un área de: 120.0 m^2\n",
      "Fecha: 08/12/2022\n",
      "Fresa Recogida: 80.0 lbs\n",
      "Fresa de Primera Calidad: 70.0 lbs\n",
      "-----------------------------------------------------------------------------------------------\n",
      "\n",
      "Zona 1 con un área de: 120.0 m^2\n",
      "Fecha: 07/12/2022\n",
      "Fresa Recogida: 70.0 lbs\n",
      "Fresa de Primera Calidad: 68.0 lbs\n",
      "-----------------------------------------------------------------------------------------------\n",
      "\n",
      "Zona 1 con un área de: 120.0 m^2\n",
      "Fecha: 01/12/2022\n",
      "Fresa Recogida: 89.0 lbs\n",
      "Fresa de Primera Calidad: 80.0 lbs\n",
      "-----------------------------------------------------------------------------------------------\n"
     ]
    },
    {
     "name": "stdin",
     "output_type": "stream",
     "text": [
      "\n",
      "-----------------------------------------------------------------------------------------------\n",
      "*****                                 MENU DE OPCIONES                                     *****\n",
      "*****                        Ingrese el número de la opción deseada                        *****\n",
      "** 1. Ingresar información                                                                     *\n",
      "** 2. Buscar información por fecha                                                            **\n",
      "** 3. Buscar información por zona                                                             **\n",
      "** 4. Graficar datos por zona                                                                 **\n",
      "** 5. Salir **\n",
      "************************************************************************************************\n",
      "¿opción? 4\n",
      "-----------------------------------------------------------------------------------------------\n",
      "Ingrese la Zona de la cual desea graficar datos (1,2,3,4) 4\n"
     ]
    },
    {
     "name": "stdout",
     "output_type": "stream",
     "text": [
      "\n",
      "¡GRAFICA GENERADA ...!\n",
      "\n"
     ]
    },
    {
     "data": {
      "image/png": "[encoded data removed]",
      "text/plain": [
       "<Figure size 432x288 with 1 Axes>"
      ]
     },
     "metadata": {
      "needs_background": "light"
     },
     "output_type": "display_data"
    },
    {
     "name": "stdin",
     "output_type": "stream",
     "text": [
      "\n",
      "-----------------------------------------------------------------------------------------------\n",
      "*****                                 MENU DE OPCIONES                                     *****\n",
      "*****                        Ingrese el número de la opción deseada                        *****\n",
      "** 1. Ingresar información                                                                     *\n",
      "** 2. Buscar información por fecha                                                            **\n",
      "** 3. Buscar información por zona                                                             **\n",
      "** 4. Graficar datos por zona                                                                 **\n",
      "** 5. Salir **\n",
      "************************************************************************************************\n",
      "¿opción? 4\n",
      "-----------------------------------------------------------------------------------------------\n",
      "Ingrese la Zona de la cual desea graficar datos (1,2,3,4) 2\n"
     ]
    },
    {
     "name": "stdout",
     "output_type": "stream",
     "text": [
      "\n",
      "¡GRAFICA GENERADA ...!\n",
      "\n"
     ]
    },
    {
     "data": {
      "image/png": "[encoded data removed]",
      "text/plain": [
       "<Figure size 432x288 with 1 Axes>"
      ]
     },
     "metadata": {
      "needs_background": "light"
     },
     "output_type": "display_data"
    },
    {
     "name": "stdin",
     "output_type": "stream",
     "text": [
      "\n",
      "-----------------------------------------------------------------------------------------------\n",
      "*****                                 MENU DE OPCIONES                                     *****\n",
      "*****                        Ingrese el número de la opción deseada                        *****\n",
      "** 1. Ingresar información                                                                     *\n",
      "** 2. Buscar información por fecha                                                            **\n",
      "** 3. Buscar información por zona                                                             **\n",
      "** 4. Graficar datos por zona                                                                 **\n",
      "** 5. Salir **\n",
      "************************************************************************************************\n",
      "¿opción? 4\n",
      "-----------------------------------------------------------------------------------------------\n",
      "Ingrese la Zona de la cual desea graficar datos (1,2,3,4) 3\n"
     ]
    },
    {
     "name": "stdout",
     "output_type": "stream",
     "text": [
      "\n",
      "¡GRAFICA GENERADA ...!\n",
      "\n"
     ]
    },
    {
     "data": {
      "image/png": "[encoded data removed]",
      "text/plain": [
       "<Figure size 432x288 with 1 Axes>"
      ]
     },
     "metadata": {
      "needs_background": "light"
     },
     "output_type": "display_data"
    },
    {
     "name": "stdin",
     "output_type": "stream",
     "text": [
      "\n",
      "-----------------------------------------------------------------------------------------------\n",
      "*****                                 MENU DE OPCIONES                                     *****\n",
      "*****                        Ingrese el número de la opción deseada                        *****\n",
      "** 1. Ingresar información                                                                     *\n",
      "** 2. Buscar información por fecha                                                            **\n",
      "** 3. Buscar información por zona                                                             **\n",
      "** 4. Graficar datos por zona                                                                 **\n",
      "** 5. Salir **\n",
      "************************************************************************************************\n",
      "¿opción? 4\n",
      "-----------------------------------------------------------------------------------------------\n",
      "Ingrese la Zona de la cual desea graficar datos (1,2,3,4) 1\n"
     ]
    },
    {
     "name": "stdout",
     "output_type": "stream",
     "text": [
      "\n",
      "¡GRAFICA GENERADA ...!\n",
      "\n"
     ]
    },
    {
     "data": {
      "image/png": "[encoded data removed]",
      "text/plain": [
       "<Figure size 432x288 with 1 Axes>"
      ]
     },
     "metadata": {
      "needs_background": "light"
     },
     "output_type": "display_data"
    },
    {
     "name": "stdin",
     "output_type": "stream",
     "text": [
      "\n",
      "-----------------------------------------------------------------------------------------------\n",
      "*****                                 MENU DE OPCIONES                                     *****\n",
      "*****                        Ingrese el número de la opción deseada                        *****\n",
      "** 1. Ingresar información                                                                     *\n",
      "** 2. Buscar información por fecha                                                            **\n",
      "** 3. Buscar información por zona                                                             **\n",
      "** 4. Graficar datos por zona                                                                 **\n",
      "** 5. Salir **\n",
      "************************************************************************************************\n",
      "¿opción? 3\n",
      "-----------------------------------------------------------------------------------------------\n",
      "Ingrese la Zona de la cual desea obtener datos (1,2,3,4) 3\n"
     ]
    },
    {
     "name": "stdout",
     "output_type": "stream",
     "text": [
      "\n",
      "¡DATOS ENCONTRADOS ...!\n",
      "\n",
      "Zona 3 con un área de: 115.0 m^2\n",
      "Fecha: 03/12/2022\n",
      "Fresa Recogida: 80.0 lbs\n",
      "Fresa de Primera Calidad: 78.0 lbs\n",
      "-----------------------------------------------------------------------------------------------\n"
     ]
    },
    {
     "name": "stdin",
     "output_type": "stream",
     "text": [
      "\n",
      "-----------------------------------------------------------------------------------------------\n",
      "*****                                 MENU DE OPCIONES                                     *****\n",
      "*****                        Ingrese el número de la opción deseada                        *****\n",
      "** 1. Ingresar información                                                                     *\n",
      "** 2. Buscar información por fecha                                                            **\n",
      "** 3. Buscar información por zona                                                             **\n",
      "** 4. Graficar datos por zona                                                                 **\n",
      "** 5. Salir **\n",
      "************************************************************************************************\n",
      "¿opción? 1\n"
     ]
    },
    {
     "name": "stdout",
     "output_type": "stream",
     "text": [
      "-----------------------------------------------------------------------------------------------\n"
     ]
    },
    {
     "name": "stdin",
     "output_type": "stream",
     "text": [
      "\n",
      "Ingresa la fecha, DD/MM/AAAA:  13/12/2022\n",
      "Ingresa la Zona (1, 2, 3 o 4):  3\n",
      "Ingresa la cantidad de fresa recogida en lbs:  78\n",
      "Ingresa la cantidad de fresa de primera calidad en lbs:  70\n",
      "\n",
      "-----------------------------------------------------------------------------------------------\n",
      "*****                                 MENU DE OPCIONES                                     *****\n",
      "*****                        Ingrese el número de la opción deseada                        *****\n",
      "** 1. Ingresar información                                                                     *\n",
      "** 2. Buscar información por fecha                                                            **\n",
      "** 3. Buscar información por zona                                                             **\n",
      "** 4. Graficar datos por zona                                                                 **\n",
      "** 5. Salir **\n",
      "************************************************************************************************\n",
      "¿opción? 5\n"
     ]
    },
    {
     "name": "stdout",
     "output_type": "stream",
     "text": [
      "\n",
      "************************    GRACIAS POR USAR NUESTRO SISTEMA    ********************************\n"
     ]
    }
   ],
   "source": [
    "import matplotlib.pyplot as plt\n",
    "datos = {'fecha': {},\n",
    "        'zona1': {'area': [],\n",
    "                 'fecha': [],\n",
    "                 'fresaR': [],\n",
    "                 'fresaC': [],},\n",
    "        'zona2': {'area': [],\n",
    "                 'fecha': [],\n",
    "                 'fresaR': [],\n",
    "                 'fresaC': [],},\n",
    "        'zona3': {'area': [],\n",
    "                 'fecha': [],\n",
    "                 'fresaR': [],\n",
    "                 'fresaC': [],},\n",
    "        'zona4': {'area': [],\n",
    "                 'fecha': [],\n",
    "                 'fresaR': [],\n",
    "                 'fresaC': [],},}\n",
    "opcion=0\n",
    "dias = 0\n",
    "\n",
    "while(opcion != 5 or dias > 30):\n",
    "    \n",
    "    opcion = int(input('\\n' + linSeparacion +\n",
    "                       '\\n*****                                 MENU DE OPCIONES                                     *****'+\n",
    "                       '\\n*****                        Ingrese el número de la opción deseada                        *****' + \n",
    "                       '\\n** 1. Ingresar información                                                                     *' + \n",
    "                       '\\n** 2. Buscar información por fecha                                                            **' + \n",
    "                       '\\n** 3. Buscar información por zona                                                             **' + \n",
    "                       '\\n** 4. Graficar datos por zona                                                                 **' + \n",
    "                       '\\n** 5. Salir **' +\n",
    "                       '\\n************************************************************************************************' +\n",
    "                       '\\n¿opción?' ))\n",
    "    if(opcion==1):\n",
    "        if(dias <= 30):\n",
    "            dias+=1\n",
    "            dia = '**********************************         DIA ' + str(dias) + \"           ***********************************\"\n",
    "            \n",
    "            print(linSeparacion)\n",
    "            fecha = input('\\nIngresa la fecha, DD/MM/AAAA: ')\n",
    "            zona = input('Ingresa la Zona (1, 2, 3 o 4): ')\n",
    "            \n",
    "            if(zonas[0].count(zona)>0):\n",
    "                area = zonas[1][zonas[0].index(zona)]\n",
    "                fresaRecogida = float(input('Ingresa la cantidad de fresa recogida en lbs: '))\n",
    "                fresaCalidad = float(input('Ingresa la cantidad de fresa de primera calidad en lbs: '))\n",
    "\n",
    "                datos['fecha'].update({fecha: [zona, area, fresaRecogida, fresaCalidad]})\n",
    "\n",
    "                if(zona=='1'):\n",
    "                    datos['zona1']['area'].insert(0,area)\n",
    "                    datos['zona1']['fecha'].insert(0,fecha)\n",
    "                    datos['zona1']['fresaR'].insert(0,fresaRecogida)\n",
    "                    datos['zona1']['fresaC'].insert(0,fresaCalidad)\n",
    "                elif(zona=='2'):\n",
    "                    datos['zona2']['area'].insert(0,area)\n",
    "                    datos['zona2']['fecha'].insert(0,fecha)\n",
    "                    datos['zona2']['fresaR'].insert(0,fresaRecogida)\n",
    "                    datos['zona2']['fresaC'].insert(0,fresaCalidad)\n",
    "                elif(zona=='3'):\n",
    "                    datos['zona3']['area'].insert(0,area)\n",
    "                    datos['zona3']['fecha'].insert(0,fecha)\n",
    "                    datos['zona3']['fresaR'].insert(0,fresaRecogida)\n",
    "                    datos['zona3']['fresaC'].insert(0,fresaCalidad)\n",
    "                elif(zona=='4'):\n",
    "                    datos['zona4']['area'].insert(0,area)\n",
    "                    datos['zona4']['fecha'].insert(0,fecha)\n",
    "                    datos['zona4']['fresaR'].insert(0,fresaRecogida)\n",
    "                    datos['zona4']['fresaC'].insert(0,fresaCalidad)\n",
    "\n",
    "                #print(datos)\n",
    "\n",
    "                archivo = open('Cultivo.txt','a')\n",
    "                archivo.write('\\n' + dia + '\\n'\n",
    "                             + 'Fecha: ' + fecha + '\\n'\n",
    "                             + 'Zona ' + zona + ' con un area de: ' + str(area) + ' m^2' + '\\n'\n",
    "                             + 'Fresa Recogida: ' + str(fresaRecogida) + ' lbs' + '\\n'\n",
    "                             + 'Fresa de Primera Calidad: ' + str(fresaCalidad) + ' lbs' + '\\n'\n",
    "                             + linSeparacion + '\\n')\n",
    "            else:\n",
    "                print('Zona no resgistrada ... ¡Vuelva a intentarlo!')\n",
    "\n",
    "            archivo.close()\n",
    "        else:\n",
    "            print('Los registros solo se pueden llevar por un mes')\n",
    "            \n",
    "    elif(opcion==2):\n",
    "        busqFecha = input(linSeparacion + \n",
    "                    '\\nIngrese la fecha para busqueda (DD/MM/AAAA): ')\n",
    "        if(datos['fecha'].get(busqFecha)):\n",
    "            print('\\n¡DATOS ENCONTRADOS ...!' + \n",
    "                  '\\nFecha: ' + busqFecha +\n",
    "                  '\\nZona ' + datos['fecha'][busqFecha][0] + ' con un área de: ' + str(datos['fecha'][busqFecha][1]) + \" m^2\" + \n",
    "                  '\\nFresa Recogida: ' + str(datos['fecha'][busqFecha][2]) + ' lbs' +\n",
    "                  '\\nFresa de Primera Calidad: ' + str(datos['fecha'][busqFecha][3]) + ' lbs' +\n",
    "                  '\\n' + linSeparacion)\n",
    "        else:\n",
    "            print('\\n¡NO HAY DATOS REGISTRADOS PARA LA FECHA REGISTRADA')\n",
    "            \n",
    "    elif(opcion==3):\n",
    "        busqZona = input(linSeparacion +\n",
    "                         '\\nIngrese la Zona de la cual desea obtener datos (1,2,3,4)')\n",
    "        if(busqZona == '1'):\n",
    "            mostrarDatosZona('zona1')\n",
    "        \n",
    "        elif(busqZona == '2'):\n",
    "            mostrarDatosZona('zona2')\n",
    "            \n",
    "        elif(busqZona == '3'):\n",
    "            mostrarDatosZona('zona3')\n",
    "        \n",
    "        elif(busqZona == '4'):\n",
    "            mostrarDatosZona('zona4')\n",
    "            \n",
    "        else:\n",
    "            print('¡¡¡Zona ingresada no registrada!!!')\n",
    "    \n",
    "    elif(opcion==4):\n",
    "        busqGrafica = input(linSeparacion +\n",
    "                         '\\nIngrese la Zona de la cual desea graficar datos (1,2,3,4)')\n",
    "        if(busqGrafica == '1'):\n",
    "            mostrarGrafica('zona1')\n",
    "        elif(busqGrafica == '2'):\n",
    "            mostrarGrafica('zona2')\n",
    "        elif(busqGrafica == '3'):\n",
    "            mostrarGrafica('zona3')\n",
    "        elif(busqGrafica == '4'):\n",
    "            mostrarGrafica('zona4')\n",
    "        else:\n",
    "            print('\\n¡¡¡LA ZONA INGRESADA NO ESTA ACTIVA!!!')\n",
    "    \n",
    "    elif(opcion==5):\n",
    "        print('\\n************************    GRACIAS POR USAR NUESTRO SISTEMA    ********************************')     \n",
    "        \n",
    "    def mostrarDatosZona(zonaConsulta):\n",
    "        print('\\n¡DATOS ENCONTRADOS ...!')\n",
    "        for i in range(len(datos[zonaConsulta]['area'])):\n",
    "            print('\\nZona ' + busqZona + ' con un área de: ' + str(datos[zonaConsulta]['area'][i]) + ' m^2' +\n",
    "                  '\\nFecha: ' + datos[zonaConsulta]['fecha'][i] + \n",
    "                  '\\nFresa Recogida: ' + str(datos[zonaConsulta]['fresaR'][i]) + ' lbs' +\n",
    "                  '\\nFresa de Primera Calidad: ' + str(datos[zonaConsulta]['fresaC'][i]) + ' lbs' +\n",
    "                  '\\n' + linSeparacion)\n",
    "            \n",
    "    def mostrarGrafica(zonaGraficar):\n",
    "        print('\\n¡GRAFICA GENERADA ...!\\n')\n",
    "        #Lineas\n",
    "        fig, ax = plt.subplots()\n",
    "        ax.plot(datos[zonaGraficar]['fecha'],datos[zonaGraficar]['fresaR'], label='Fresas Recolectadas')\n",
    "        ax.plot(datos[zonaGraficar]['fecha'],datos[zonaGraficar]['fresaC'], label='Fresas de Primera Calidad')\n",
    "        ax.set_title('Analisis de Fresas recolectadas VS de Primera calidad: ' + zonaGraficar)\n",
    "        plt.ylabel(\"Cantidad (lbs)\")\n",
    "        plt.xlabel(\"Dia\")\n",
    "        plt.legend()\n",
    "        plt.show()\n",
    "    "
   ]
  },
  {
   "cell_type": "markdown",
   "id": "cbfeb1c8-1104-4af1-a02f-88d0d2fd855a",
   "metadata": {},
   "source": [
    "## Nota\n",
    "<p> -------- El archivo .ipynb con el código se encuentra en el siguiente enlace: \n",
    "<a href= \"https://drive.google.com/file/d/14CpRCA6qVFpLQDmhO1iy3osxt5q_6hhZ/view?usp=sharing\">https://drive.google.com/file/d/14CpRCA6qVFpLQDmhO1iy3osxt5q_6hhZ/view?usp=sharing</a>\n",
    "</p>\n",
    "\n",
    "#### Evidencia del archivo .txt creado\n",
    "<img src=\"CultivoLab.png\">"
   ]
  },
  {
   "cell_type": "markdown",
   "id": "ed3aea7f-826b-488c-8eac-3b503fe0aa7b",
   "metadata": {},
   "source": [
    "## ¡FIN!"
   ]
  },
  {
   "cell_type": "code",
   "execution_count": null,
   "id": "36e8b9aa-8a53-4447-9adb-250f336e427b",
   "metadata": {},
   "outputs": [],
   "source": []
  }
 ],
 "metadata": {
  "kernelspec": {
   "display_name": "Python 3 (ipykernel)",
   "language": "python",
   "name": "python3"
  },
  "language_info": {
   "codemirror_mode": {
    "name": "ipython",
    "version": 3
   },
   "file_extension": ".py",
   "mimetype": "text/x-python",
   "name": "python",
   "nbconvert_exporter": "python",
   "pygments_lexer": "ipython3",
   "version": "3.9.12"
  }
 },
 "nbformat": 4,
 "nbformat_minor": 5
}
